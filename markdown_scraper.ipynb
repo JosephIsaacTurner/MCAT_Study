{
 "cells": [
  {
   "cell_type": "code",
   "execution_count": 1,
   "metadata": {},
   "outputs": [
    {
     "data": {
      "text/html": [
       "<div>\n",
       "<style scoped>\n",
       "    .dataframe tbody tr th:only-of-type {\n",
       "        vertical-align: middle;\n",
       "    }\n",
       "\n",
       "    .dataframe tbody tr th {\n",
       "        vertical-align: top;\n",
       "    }\n",
       "\n",
       "    .dataframe thead th {\n",
       "        text-align: right;\n",
       "    }\n",
       "</style>\n",
       "<table border=\"1\" class=\"dataframe\">\n",
       "  <thead>\n",
       "    <tr style=\"text-align: right;\">\n",
       "      <th></th>\n",
       "      <th>Section</th>\n",
       "      <th>Question</th>\n",
       "      <th>Answer</th>\n",
       "      <th>Explanation</th>\n",
       "    </tr>\n",
       "  </thead>\n",
       "  <tbody>\n",
       "    <tr>\n",
       "      <th>0</th>\n",
       "      <td>Chemistry</td>\n",
       "      <td>Which of the following best expresses the alge...</td>\n",
       "      <td>`108x^5`</td>\n",
       "      <td>The algebraic relationship is derived from the...</td>\n",
       "    </tr>\n",
       "    <tr>\n",
       "      <th>1</th>\n",
       "      <td>Organic Chemistry</td>\n",
       "      <td>A Boc-protected amino acid, shown above, is fo...</td>\n",
       "      <td>![Boc Anhydride](images/boc_anhydride.png)</td>\n",
       "      <td>Boc anhydride is used to protect the amine gro...</td>\n",
       "    </tr>\n",
       "    <tr>\n",
       "      <th>2</th>\n",
       "      <td>Organic Chemistry</td>\n",
       "      <td>An alternative to Boc is 9-Fluorenylmethoxycar...</td>\n",
       "      <td>Boc is removed under strong acidic conditions,...</td>\n",
       "      <td>The choice of protecting group can significant...</td>\n",
       "    </tr>\n",
       "  </tbody>\n",
       "</table>\n",
       "</div>"
      ],
      "text/plain": [
       "             Section                                           Question  \\\n",
       "0          Chemistry  Which of the following best expresses the alge...   \n",
       "1  Organic Chemistry  A Boc-protected amino acid, shown above, is fo...   \n",
       "2  Organic Chemistry  An alternative to Boc is 9-Fluorenylmethoxycar...   \n",
       "\n",
       "                                              Answer  \\\n",
       "0                                           `108x^5`   \n",
       "1         ![Boc Anhydride](images/boc_anhydride.png)   \n",
       "2  Boc is removed under strong acidic conditions,...   \n",
       "\n",
       "                                         Explanation  \n",
       "0  The algebraic relationship is derived from the...  \n",
       "1  Boc anhydride is used to protect the amine gro...  \n",
       "2  The choice of protecting group can significant...  "
      ]
     },
     "execution_count": 1,
     "metadata": {},
     "output_type": "execute_result"
    }
   ],
   "source": [
    "import pandas as pd\n",
    "import re\n",
    "import os\n",
    "\n",
    "def parse_markdown_to_df(markdown):\n",
    "    sections = re.split(r'\\n## ', markdown)  # Split by sections\n",
    "    data = []\n",
    "    for section in sections:\n",
    "        if section.strip() == '':\n",
    "            continue\n",
    "        title = section.split('\\n')[0].strip()  # Extract section title\n",
    "        questions = re.findall(r'### (.*?)\\n\\*\\*Q:\\*\\* (.*?)\\n\\*\\*A:\\*\\* (.*?)\\nExplanation: (.*?)\\n', section, re.DOTALL)\n",
    "        for question in questions:\n",
    "            data.append({\n",
    "                'Section': title,\n",
    "                'Question': question[1].strip(),\n",
    "                'Answer': question[2].strip(),\n",
    "                'Explanation': question[3].strip()\n",
    "            })\n",
    "    \n",
    "    return pd.DataFrame(data)\n",
    "\n",
    "markdown_path = \"Missed_Questions.md\"\n",
    "with open(markdown_path, \"r\") as file:\n",
    "    data = file.readlines()\n",
    "\n",
    "df = parse_markdown_to_df(\"\".join(data))\n",
    "df\n",
    "\n"
   ]
  }
 ],
 "metadata": {
  "kernelspec": {
   "display_name": "wwr_env",
   "language": "python",
   "name": "python3"
  },
  "language_info": {
   "codemirror_mode": {
    "name": "ipython",
    "version": 3
   },
   "file_extension": ".py",
   "mimetype": "text/x-python",
   "name": "python",
   "nbconvert_exporter": "python",
   "pygments_lexer": "ipython3",
   "version": "3.11.5"
  }
 },
 "nbformat": 4,
 "nbformat_minor": 2
}
